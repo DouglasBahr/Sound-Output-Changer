{
 "cells": [
  {
   "cell_type": "code",
   "execution_count": 28,
   "metadata": {},
   "outputs": [],
   "source": [
    "import os\n",
    "from pathlib import PureWindowsPath\n",
    "import pathlib"
   ]
  },
  {
   "cell_type": "code",
   "execution_count": 78,
   "metadata": {},
   "outputs": [],
   "source": [
    "NIRCMDC_PATH = os.path.join(os.path.dirname(os.path.abspath(\".\")), \"WindowsTools\",\"nircmdc.exe\")\n",
    "NIRCMDC_WIN_PATH = PureWindowsPath(NIRCMD_RAW_PATH)"
   ]
  },
  {
   "cell_type": "code",
   "execution_count": 53,
   "metadata": {},
   "outputs": [],
   "source": [
    "# Valid Commands\n",
    "# C:\\scripts\\Repositories\\Sound-Output-Changer\\WindowsTools\\nircmd.exe setdefaultsounddevice \"BlueTooth_HighQuality\"\n",
    "# C:\\scripts\\Repositories\\Sound-Output-Changer\\WindowsTools\\nircmd.exe setdefaultsounddevice \"BlueTooth_Chat\"\n",
    "# C:\\scripts\\Repositories\\Sound-Output-Changer\\WindowsTools\\nircmd.exe setdefaultsounddevice \"EVGA speakers\""
   ]
  },
  {
   "cell_type": "code",
   "execution_count": 100,
   "metadata": {},
   "outputs": [],
   "source": [
    "\n",
    "SOUND_DEVICES = {\"roaming\"  : \"BlueTooth_HighQuality\",\n",
    "                 \"chat\"     : \"BlueTooth_Chat\",\n",
    "                 \"quality\"  :  \"EVGA speakers\"}\n",
    "\n",
    "def switch_sound_device(command):\n",
    "    for value in SOUND_DEVICES.values():\n",
    "        os.system(f'cmd /c {NIRCMDC_WIN_PATH} setdefaultsounddevice \"{SOUND_DEVICES[command]}\"')\n",
    "        \n",
    "switch_sound_device(\"quality\")"
   ]
  },
  {
   "cell_type": "code",
   "execution_count": null,
   "metadata": {
    "scrolled": true
   },
   "outputs": [],
   "source": []
  },
  {
   "cell_type": "code",
   "execution_count": null,
   "metadata": {},
   "outputs": [],
   "source": []
  },
  {
   "cell_type": "code",
   "execution_count": null,
   "metadata": {},
   "outputs": [],
   "source": []
  }
 ],
 "metadata": {
  "kernelspec": {
   "display_name": "Python 3",
   "language": "python",
   "name": "python3"
  },
  "language_info": {
   "codemirror_mode": {
    "name": "ipython",
    "version": 3
   },
   "file_extension": ".py",
   "mimetype": "text/x-python",
   "name": "python",
   "nbconvert_exporter": "python",
   "pygments_lexer": "ipython3",
   "version": "3.8.3"
  }
 },
 "nbformat": 4,
 "nbformat_minor": 4
}
